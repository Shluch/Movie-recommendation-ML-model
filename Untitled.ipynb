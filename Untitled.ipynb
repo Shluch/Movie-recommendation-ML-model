{
 "cells": [
  {
   "cell_type": "code",
   "execution_count": 9,
   "id": "eed3fb87",
   "metadata": {},
   "outputs": [],
   "source": [
    "def fun(mail):\n",
    "    print(mail.split(\"hey\")[1])\n",
    "    "
   ]
  },
  {
   "cell_type": "code",
   "execution_count": 10,
   "id": "43a6dd3c",
   "metadata": {},
   "outputs": [
    {
     "name": "stdout",
     "output_type": "stream",
     "text": [
      "Domain@mail\n"
     ]
    }
   ],
   "source": [
    "fun(\"heyDomain@mail\")"
   ]
  },
  {
   "cell_type": "code",
   "execution_count": 12,
   "id": "a333eae5",
   "metadata": {},
   "outputs": [
    {
     "data": {
      "text/plain": [
       "False"
      ]
     },
     "execution_count": 12,
     "metadata": {},
     "output_type": "execute_result"
    }
   ],
   "source": [
    "def notfun(str):\n",
    "    return \"Wrong\" in str\n",
    "notfun(\"Alat is wrong\")"
   ]
  },
  {
   "cell_type": "code",
   "execution_count": null,
   "id": "e25a718f",
   "metadata": {},
   "outputs": [],
   "source": []
  }
 ],
 "metadata": {
  "kernelspec": {
   "display_name": "Python 3 (ipykernel)",
   "language": "python",
   "name": "python3"
  },
  "language_info": {
   "codemirror_mode": {
    "name": "ipython",
    "version": 3
   },
   "file_extension": ".py",
   "mimetype": "text/x-python",
   "name": "python",
   "nbconvert_exporter": "python",
   "pygments_lexer": "ipython3",
   "version": "3.9.13"
  }
 },
 "nbformat": 4,
 "nbformat_minor": 5
}
